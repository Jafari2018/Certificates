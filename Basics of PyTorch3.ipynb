{
  "nbformat": 4,
  "nbformat_minor": 0,
  "metadata": {
    "colab": {
      "provenance": [],
      "authorship_tag": "ABX9TyM9eoUpAsw7NukTQ8BYOvNM",
      "include_colab_link": true
    },
    "kernelspec": {
      "name": "python3",
      "display_name": "Python 3"
    },
    "language_info": {
      "name": "python"
    }
  },
  "cells": [
    {
      "cell_type": "markdown",
      "metadata": {
        "id": "view-in-github",
        "colab_type": "text"
      },
      "source": [
        "<a href=\"https://colab.research.google.com/github/Jafari2018/Certificates/blob/main/Basics%20of%20PyTorch3.ipynb\" target=\"_parent\"><img src=\"https://colab.research.google.com/assets/colab-badge.svg\" alt=\"Open In Colab\"/></a>"
      ]
    },
    {
      "cell_type": "code",
      "execution_count": null,
      "metadata": {
        "id": "bNmHDxoROpWs"
      },
      "outputs": [],
      "source": [
        "# @title Install dependencies\n",
        "!pip install pandas --quiet\n",
        "# Imports\n",
        "import time\n",
        "import random\n",
        "import numpy as np\n",
        "import pandas as pd\n",
        "import matplotlib.pyplot as plt\n",
        "\n",
        "# PyTorch libraries\n",
        "import torch\n",
        "from torch import nn\n",
        "from torchvision import datasets\n",
        "from torch.utils.data import DataLoader\n",
        "from torchvision.transforms import ToTensor"
      ]
    },
    {
      "cell_type": "code",
      "source": [
        "# @title Figure Settings\n",
        "import logging\n",
        "logging.getLogger('matplotlib.font_manager').disabled = True\n",
        "\n",
        "import ipywidgets as widgets\n",
        "%config InlineBackend.figure_format = 'retina'\n",
        "plt.style.use(\"https://raw.githubusercontent.com/NeuromatchAcademy/content-creation/main/nma.mplstyle\")"
      ],
      "metadata": {
        "id": "Juulrd2fWnSp"
      },
      "execution_count": null,
      "outputs": []
    },
    {
      "cell_type": "code",
      "source": [
        "#Plotting functions\n",
        "from mpl_toolkits.axes_grid1 import make_axes_locatable\n",
        "\n",
        "def ex3_plot(model, x, y, ep, lss):\n",
        "  \"\"\"\n",
        "  Plot training loss\n",
        "\n",
        "  Args:\n",
        "    model: nn.module\n",
        "      Model implementing regression\n",
        "    x: np.ndarray\n",
        "      Training Data\n",
        "    y: np.ndarray\n",
        "      Targets\n",
        "    ep: int\n",
        "      Number of epochs\n",
        "    lss: function\n",
        "      Loss function\n",
        "\n",
        "  Returns:\n",
        "    Nothing\n",
        "  \"\"\"\n",
        "  f, (ax1, ax2) = plt.subplots(1, 2, figsize=(12, 4))\n",
        "  ax1.set_title(\"Regression\")\n",
        "  ax1.plot(x, model(x).detach().numpy(), color='r', label='prediction')\n",
        "  ax1.scatter(x, y, c='c', label='targets')\n",
        "  ax1.set_xlabel('x')\n",
        "  ax1.set_ylabel('y')\n",
        "  ax1.legend()\n",
        "\n",
        "  ax2.set_title(\"Training loss\")\n",
        "  ax2.plot(np.linspace(1, epochs, epochs), losses, color='y')\n",
        "  ax2.set_xlabel(\"Epoch\")\n",
        "  ax2.set_ylabel(\"MSE\")\n",
        "\n",
        "  plt.show()\n",
        "\n",
        "\n",
        "def ex1_plot(fun_z, fun_dz):\n",
        "  \"\"\"\n",
        "  Plots the function and gradient vectors\n",
        "\n",
        "  Args:\n",
        "    fun_z: f.__name__\n",
        "      Function implementing sine function\n",
        "    fun_dz: f.__name__\n",
        "      Function implementing sine function as gradient vector\n",
        "\n",
        "  Returns:\n",
        "    Nothing\n",
        "  \"\"\"\n",
        "  x, y = np.arange(-3, 3.01, 0.02), np.arange(-3, 3.01, 0.02)\n",
        "  xx, yy = np.meshgrid(x, y, sparse=True)\n",
        "  zz = fun_z(xx, yy)\n",
        "  xg, yg = np.arange(-2.5, 2.6, 0.5), np.arange(-2.5, 2.6, 0.5)\n",
        "  xxg, yyg = np.meshgrid(xg, yg, sparse=True)\n",
        "  zxg, zyg = fun_dz(xxg, yyg)\n",
        "\n",
        "  plt.figure(figsize=(8, 7))\n",
        "  plt.title(\"Gradient vectors point towards steepest ascent\")\n",
        "  contplt = plt.contourf(x, y, zz, levels=20)\n",
        "  plt.quiver(xxg, yyg, zxg, zyg, scale=50, color='r', )\n",
        "  plt.xlabel('$x$')\n",
        "  plt.ylabel('$y$')\n",
        "  ax = plt.gca()\n",
        "  divider = make_axes_locatable(ax)\n",
        "  cax = divider.append_axes(\"right\", size=\"5%\", pad=0.05)\n",
        "  cbar = plt.colorbar(contplt, cax=cax)\n",
        "  cbar.set_label('$z = h(x, y)$')\n",
        "\n",
        "  plt.show()\n"
      ],
      "metadata": {
        "id": "FNj1WuXf0dEs"
      },
      "execution_count": null,
      "outputs": []
    },
    {
      "cell_type": "code",
      "source": [
        "# @title Set random seed\n",
        "\n",
        "# @markdown Executing `set_seed(seed=seed)` you are setting the seed\n",
        "\n",
        "# For DL its critical to set the random seed so that students can have a\n",
        "# baseline to compare their results to expected results.\n",
        "# Read more here: https://pytorch.org/docs/stable/notes/randomness.html\n",
        "\n",
        "# Call `set_seed` function in the exercises to ensure reproducibility.\n",
        "import random\n",
        "import torch\n",
        "\n",
        "def set_seed(seed=None, seed_torch=True):\n",
        "  \"\"\"\n",
        "  Function that controls randomness. NumPy and random modules must be imported.\n",
        "\n",
        "  Args:\n",
        "    seed : Integer\n",
        "      A non-negative integer that defines the random state. Default is `None`.\n",
        "    seed_torch : Boolean\n",
        "      If `True` sets the random seed for pytorch tensors, so pytorch module\n",
        "      must be imported. Default is `True`.\n",
        "\n",
        "  Returns:\n",
        "    Nothing.\n",
        "  \"\"\"\n",
        "  if seed is None:\n",
        "    seed = np.random.choice(2 ** 32)\n",
        "  random.seed(seed)\n",
        "  np.random.seed(seed)\n",
        "  if seed_torch:\n",
        "    torch.manual_seed(seed)\n",
        "    torch.cuda.manual_seed_all(seed)\n",
        "    torch.cuda.manual_seed(seed)\n",
        "    torch.backends.cudnn.benchmark = False\n",
        "    torch.backends.cudnn.deterministic = True\n",
        "\n",
        "  print(f'Random seed {seed} has been set.')\n",
        "\n",
        "\n",
        "# In case that `DataLoader` is used\n",
        "def seed_worker(worker_id):\n",
        "  \"\"\"\n",
        "  DataLoader will reseed workers following randomness in\n",
        "  multi-process data loading algorithm.\n",
        "\n",
        "  Args:\n",
        "    worker_id: integer\n",
        "      ID of subprocess to seed. 0 means that\n",
        "      the data will be loaded in the main process\n",
        "      Refer: https://pytorch.org/docs/stable/data.html#data-loading-randomness for more details\n",
        "\n",
        "  Returns:\n",
        "    Nothing\n",
        "  \"\"\"\n",
        "  worker_seed = torch.initial_seed() % 2**32\n",
        "  np.random.seed(worker_seed)\n",
        "  random.seed(worker_seed)"
      ],
      "metadata": {
        "id": "upCHfIUd0yVN"
      },
      "execution_count": null,
      "outputs": []
    },
    {
      "cell_type": "code",
      "source": [
        "# @title Set device (GPU or CPU). Execute `set_device()`\n",
        "# especially if torch modules used.\n",
        "\n",
        "# inform the user if the notebook uses GPU or CPU.\n",
        "\n",
        "def set_device():\n",
        "  \"\"\"\n",
        "  Set the device. CUDA if available, CPU otherwise\n",
        "\n",
        "  Args:\n",
        "    None\n",
        "\n",
        "  Returns:\n",
        "    Nothing\n",
        "  \"\"\"\n",
        "  device = \"cuda\" if torch.cuda.is_available() else \"cpu\"\n",
        "  if device != \"cuda\":\n",
        "    print(\"GPU is not enabled in this notebook. \\n\"\n",
        "          \"If you want to enable it, in the menu under `Runtime` -> \\n\"\n",
        "          \"`Hardware accelerator.` and select `GPU` from the dropdown menu\")\n",
        "  else:\n",
        "    print(\"GPU is enabled in this notebook. \\n\"\n",
        "          \"If you want to disable it, in the menu under `Runtime` -> \\n\"\n",
        "          \"`Hardware accelerator.` and select `None` from the dropdown menu\")\n",
        "\n",
        "  return device\n",
        "SEED = 2021\n",
        "set_seed(seed=SEED)\n",
        "DEVICE = set_device()\n"
      ],
      "metadata": {
        "id": "EL22hk6t0_Kn"
      },
      "execution_count": null,
      "outputs": []
    },
    {
      "cell_type": "code",
      "source": [
        "# @title Helper Functions\n",
        "\n",
        "def checkExercise1(A, B, C, D):\n",
        "  \"\"\"\n",
        "  Helper function for checking Exercise 1.\n",
        "\n",
        "  Args:\n",
        "    A: torch.Tensor\n",
        "      Torch Tensor of shape (20, 21) consisting of ones.\n",
        "    B: torch.Tensor\n",
        "      Torch Tensor of size([3,4])\n",
        "    C: torch.Tensor\n",
        "      Torch Tensor of size([20,21])\n",
        "    D: torch.Tensor\n",
        "      Torch Tensor of size([19])\n",
        "\n",
        "  Returns:\n",
        "    Nothing.\n",
        "  \"\"\"\n",
        "  assert torch.equal(A.to(int),torch.ones(20, 21).to(int)), \"Got: {A} \\n Expected: {torch.ones(20, 21)} (shape: {torch.ones(20, 21).shape})\"\n",
        "  assert np.array_equal(B.numpy(),np.vander([1, 2, 3], 4)), \"Got: {B} \\n Expected: {np.vander([1, 2, 3], 4)} (shape: {np.vander([1, 2, 3], 4).shape})\"\n",
        "  assert C.shape == (20, 21), \"Got: {C} \\n Expected (shape: {(20, 21)})\"\n",
        "  assert torch.equal(D, torch.arange(4, 41, step=2)), \"Got {D} \\n Expected: {torch.arange(4, 41, step=2)} (shape: {torch.arange(4, 41, step=2).shape})\"\n",
        "  print(\"All correct\")\n",
        "\n",
        "def timeFun(f, dim, iterations, device='cpu'):\n",
        "  \"\"\"\n",
        "  Helper function to calculate amount of time taken per instance on CPU/GPU\n",
        "\n",
        "  Args:\n",
        "    f: BufferedReader IO instance\n",
        "      Function name for which to calculate computational time complexity\n",
        "    dim: Integer\n",
        "      Number of dimensions in instance in question\n",
        "    iterations: Integer\n",
        "      Number of iterations for instance in question\n",
        "    device: String\n",
        "      Device on which respective computation is to be run\n",
        "\n",
        "  Returns:\n",
        "    Nothing\n",
        "  \"\"\"\n",
        "  iterations = iterations\n",
        "  t_total = 0\n",
        "  for _ in range(iterations):\n",
        "    start = time.time()\n",
        "    f(dim, device)\n",
        "    end = time.time()\n",
        "    t_total += end - start\n",
        "\n",
        "  if device == 'cpu':\n",
        "    print(f\"time taken for {iterations} iterations of {f.__name__}({dim}, {device}): {t_total:.5f}\")\n",
        "  else:\n",
        "    print(f\"time taken for {iterations} iterations of {f.__name__}({dim}, {device}): {t_total:.5f}\")"
      ],
      "metadata": {
        "id": "oea7MN3BvWCg"
      },
      "execution_count": null,
      "outputs": []
    },
    {
      "cell_type": "code",
      "source": [
        "# We can construct a tensor directly from some common python iterables,\n",
        "# such as list and tuple nested iterables can also be handled as long as the\n",
        "# dimensions are compatible\n",
        "\n",
        "# tensor from a list\n",
        "a = torch.tensor([0, 1, 2])\n",
        "#tensor from a tuple of tuples\n",
        "b = ((1.0, 1.1), (1.2, 1.3))\n",
        "b = torch.tensor(b)\n",
        "# tensor from a numpy array\n",
        "c = np.ones([2, 3])\n",
        "c = torch.tensor(c)\n",
        "print(f\"Tensor a: {a}\")\n",
        "print(f\"Tensor b: {b}\")\n",
        "print(f\"Tensor c: {c}\")\n"
      ],
      "metadata": {
        "colab": {
          "base_uri": "https://localhost:8080/"
        },
        "id": "nI4aGofAJ2Hm",
        "outputId": "a4a0f90c-e997-466f-a07f-ccb09a23dfd0"
      },
      "execution_count": null,
      "outputs": [
        {
          "output_type": "stream",
          "name": "stdout",
          "text": [
            "Tensor a: tensor([0, 1, 2])\n",
            "Tensor b: tensor([[1.0000, 1.1000],\n",
            "        [1.2000, 1.3000]])\n",
            "Tensor c: tensor([[1., 1., 1.],\n",
            "        [1., 1., 1.]], dtype=torch.float64)\n"
          ]
        }
      ]
    },
    {
      "cell_type": "code",
      "source": [
        "x = torch.ones(5, 3)\n",
        "y = torch.zeros(2)\n",
        "z = torch.empty(1, 1, 5)\n",
        "print(f\"Tensor x: {x}\")\n",
        "print(f\"Tensor y: {y}\")\n",
        "print(f\"Tensor z: {z}\")"
      ],
      "metadata": {
        "colab": {
          "base_uri": "https://localhost:8080/"
        },
        "id": "2dn_XzAaLasb",
        "outputId": "37fe89bf-343d-4176-ce3f-b3d1193185c3"
      },
      "execution_count": null,
      "outputs": [
        {
          "output_type": "stream",
          "name": "stdout",
          "text": [
            "Tensor x: tensor([[1., 1., 1.],\n",
            "        [1., 1., 1.],\n",
            "        [1., 1., 1.],\n",
            "        [1., 1., 1.],\n",
            "        [1., 1., 1.]])\n",
            "Tensor y: tensor([0., 0.])\n",
            "Tensor z: tensor([[[2.1500e-15, 4.5622e-41, 5.6588e-34, 0.0000e+00, 4.4842e-44]]])\n"
          ]
        }
      ]
    },
    {
      "cell_type": "code",
      "source": [
        "# There are also constructors for random numbers\n",
        "\n",
        "# Uniform distribution\n",
        "a = torch.rand(1, 3)\n",
        "\n",
        "# Normal distribution\n",
        "b = torch.randn(3, 4)\n",
        "\n",
        "# There are also constructors that allow us to construct\n",
        "# a tensor according to the above constructors, but with\n",
        "# dimensions equal to another tensor.\n",
        "\n",
        "c = torch.zeros_like(a)\n",
        "d = torch.rand_like(c)\n",
        "\n",
        "print(f\"Tensor a: {a}\")\n",
        "print(f\"Tensor b: {b}\")\n",
        "print(f\"Tensor c: {c}\")\n",
        "print(f\"Tensor d: {d}\")"
      ],
      "metadata": {
        "colab": {
          "base_uri": "https://localhost:8080/"
        },
        "id": "c9XJq-P_MdJ5",
        "outputId": "ca70545a-4cc5-4133-b00b-d13224a8493d"
      },
      "execution_count": null,
      "outputs": [
        {
          "output_type": "stream",
          "name": "stdout",
          "text": [
            "Tensor a: tensor([[0.4255, 0.0498, 0.3537]])\n",
            "Tensor b: tensor([[-0.6633, -2.7065, -0.8703, -0.6429],\n",
            "        [ 0.3941,  0.5269, -1.5429, -0.5554],\n",
            "        [ 1.0275,  0.8928,  0.3663,  1.9209]])\n",
            "Tensor c: tensor([[0., 0., 0.]])\n",
            "Tensor d: tensor([[0.3926, 0.5708, 0.8214]])\n"
          ]
        }
      ]
    },
    {
      "cell_type": "code",
      "source": [
        "#Reproducibility of random numbers to seed the  Random Number Generator (RNG) for all devices (both CPU and GPU)\n",
        "import torch\n",
        "torch.manual_seed(0)\n",
        "import random\n",
        "random.seed(0)\n",
        "import numpy as np\n",
        "np.random.seed(0)"
      ],
      "metadata": {
        "id": "zn-wMOceOYel"
      },
      "execution_count": null,
      "outputs": []
    },
    {
      "cell_type": "code",
      "source": [
        "#Here, we define for you a function called set_seed that does the job for you!\n",
        "\n",
        "def set_seed(seed=None, seed_torch=True):\n",
        "  \"\"\"\n",
        "  Function that controls randomness. NumPy and random modules must be imported.\n",
        "\n",
        "  Args:\n",
        "    seed : Integer\n",
        "      A non-negative integer that defines the random state. Default is `None`.\n",
        "    seed_torch : Boolean\n",
        "      If `True` sets the random seed for pytorch tensors, so pytorch module\n",
        "      must be imported. Default is `True`.\n",
        "\n",
        "  Returns:\n",
        "    Nothing.\n",
        "  \"\"\"\n",
        "  if seed is None:\n",
        "    seed = np.random.choice(2 ** 32)\n",
        "  random.seed(seed)\n",
        "  np.random.seed(seed)\n",
        "  if seed_torch:\n",
        "    torch.manual_seed(seed)\n",
        "    torch.cuda.manual_seed_all(seed)\n",
        "    torch.cuda.manual_seed(seed)\n",
        "    torch.backends.cudnn.benchmark = False\n",
        "    torch.backends.cudnn.deterministic = True\n",
        "\n",
        "  print(f'Random seed {seed} has been set.')"
      ],
      "metadata": {
        "id": "QNIrfZjpPiQa"
      },
      "execution_count": null,
      "outputs": []
    },
    {
      "cell_type": "code",
      "source": [
        "def simplefun(seed=True, my_seed=None):\n",
        "  \"\"\"\n",
        "  Helper function to verify effectiveness of set_seed attribute\n",
        "\n",
        "  Args:\n",
        "    seed: Boolean\n",
        "      Specifies if seed value is provided or not\n",
        "    my_seed: Integer\n",
        "      Initializes seed to specified value\n",
        "\n",
        "  Returns:\n",
        "    Nothing\n",
        "  \"\"\"\n",
        "  if seed:\n",
        "    set_seed(seed=my_seed)\n",
        "\n",
        "  # uniform distribution\n",
        "  a = torch.rand(1, 3)\n",
        "  # normal distribution\n",
        "  b = torch.randn(3, 4)\n",
        "\n",
        "  print(\"Tensor a: \", a)\n",
        "  print(\"Tensor b: \", b)\n"
      ],
      "metadata": {
        "id": "zdSwXuTFPtyL"
      },
      "execution_count": null,
      "outputs": []
    },
    {
      "cell_type": "code",
      "source": [
        "simplefun(seed=True, my_seed=0)  # Turn `seed` to `False` or change `my_seed`"
      ],
      "metadata": {
        "colab": {
          "base_uri": "https://localhost:8080/"
        },
        "id": "YZy5CIWFP2UF",
        "outputId": "36360b6f-4b3c-49db-912f-6b78e0f9c2cd"
      },
      "execution_count": null,
      "outputs": [
        {
          "output_type": "stream",
          "name": "stdout",
          "text": [
            "Random seed 0 has been set.\n",
            "Tensor a:  tensor([[0.4963, 0.7682, 0.0885]])\n",
            "Tensor b:  tensor([[ 0.3643,  0.1344,  0.1642,  0.3058],\n",
            "        [ 0.2100,  0.9056,  0.6035,  0.8110],\n",
            "        [-0.0451,  0.8797,  1.0482, -0.0445]])\n"
          ]
        }
      ]
    },
    {
      "cell_type": "code",
      "source": [
        "a = torch.arange(0, 10, step=1)\n",
        "b = np.arange(0, 10, step=1)\n",
        "\n",
        "c = torch.linspace(0, 5, steps=11)\n",
        "d = np.linspace(0, 5, num=11)\n",
        "\n",
        "print(f\"Tensor a: {a}\\n\")\n",
        "print(f\"Numpy array b: {b}\\n\")\n",
        "print(f\"Tensor c: {c}\\n\")\n",
        "print(f\"Numpy array d: {d}\\n\")"
      ],
      "metadata": {
        "colab": {
          "base_uri": "https://localhost:8080/"
        },
        "id": "eJXIp7opQDYV",
        "outputId": "6ec9f474-f5c4-47b6-e17a-e7cf532a1676"
      },
      "execution_count": null,
      "outputs": [
        {
          "output_type": "stream",
          "name": "stdout",
          "text": [
            "Tensor a: tensor([0, 1, 2, 3, 4, 5, 6, 7, 8, 9])\n",
            "\n",
            "Numpy array b: [0 1 2 3 4 5 6 7 8 9]\n",
            "\n",
            "Tensor c: tensor([0.0000, 0.5000, 1.0000, 1.5000, 2.0000, 2.5000, 3.0000, 3.5000, 4.0000,\n",
            "        4.5000, 5.0000])\n",
            "\n",
            "Numpy array d: [0.  0.5 1.  1.5 2.  2.5 3.  3.5 4.  4.5 5. ]\n",
            "\n"
          ]
        }
      ]
    },
    {
      "cell_type": "code",
      "source": [
        "#Coding Exercise 2.1: Creating Tensors\n",
        "def tensor_creation(Z):\n",
        "  \"\"\"\n",
        "  A function that creates various tensors.\n",
        "\n",
        "  Args:\n",
        "    Z: numpy.ndarray\n",
        "      An array of shape (3,4)\n",
        "\n",
        "  Returns:\n",
        "    A : Tensor\n",
        "      20 by 21 tensor consisting of ones\n",
        "    B : Tensor\n",
        "      A tensor with elements equal to the elements of numpy array Z\n",
        "    C : Tensor\n",
        "      A tensor with the same number of elements as A but with values ∼U(0,1)\n",
        "    D : Tensor\n",
        "      A 1D tensor containing the even numbers between 4 and 40 inclusive.\n",
        "  \"\"\"\n",
        "  #################################################\n",
        "  ## TODO for students: fill in the missing code\n",
        "  ## from the first expression\n",
        "  ##raise NotImplementedError(\"Student exercise: say what they should have done\")\n",
        "  #################################################\n",
        "  A = torch.ones(20, 21)\n",
        "  B = torch.tensor(Z)\n",
        "  C = torch.rand_like(A)\n",
        "  D = torch.arange(4, 41, step=2)\n",
        "\n",
        "  return A, B, C, D\n",
        "\n",
        "\n",
        "# numpy array to copy later\n",
        "Z = np.vander([1, 2, 3], 4)\n",
        "\n",
        "# Uncomment below to check your function!\n",
        "A, B, C, D = tensor_creation(Z)\n",
        "print(f\"Tensor D: {D}\\n\")\n",
        "#checkExercise1(A, B, C, D)"
      ],
      "metadata": {
        "colab": {
          "base_uri": "https://localhost:8080/"
        },
        "id": "72ezwpgDSMgM",
        "outputId": "2f38b75d-e5ae-4021-ed43-86b24b9c3de2"
      },
      "execution_count": null,
      "outputs": [
        {
          "output_type": "stream",
          "name": "stdout",
          "text": [
            "Tensor D: tensor([ 4,  6,  8, 10, 12, 14, 16, 18, 20, 22, 24, 26, 28, 30, 32, 34, 36, 38,\n",
            "        40])\n",
            "\n"
          ]
        }
      ]
    },
    {
      "cell_type": "code",
      "source": [
        "#Section 2.2: Operations in PyTorch\n",
        "a = torch.ones(5, 3)\n",
        "b = torch.rand(5, 3)\n",
        "c = torch.empty(5, 3)\n",
        "d = torch.empty(5, 3)\n",
        "\n",
        "# this only works if c and d already exist\n",
        "torch.add(a, b, out=c)\n",
        "\n",
        "# Pointwise Multiplication of a and b\n",
        "torch.multiply(a, b, out=d)\n",
        "\n",
        "print(c)\n",
        "print(d)"
      ],
      "metadata": {
        "colab": {
          "base_uri": "https://localhost:8080/"
        },
        "id": "BZbD4t4VgAJS",
        "outputId": "31b037e3-9192-4265-b627-febc57f3b60a"
      },
      "execution_count": null,
      "outputs": [
        {
          "output_type": "stream",
          "name": "stdout",
          "text": [
            "tensor([[1.7932, 1.2643, 1.5500],\n",
            "        [1.4938, 1.7337, 1.1532],\n",
            "        [1.5237, 1.9667, 1.8570],\n",
            "        [1.0044, 1.4247, 1.5047],\n",
            "        [1.3349, 1.1715, 1.1521]])\n",
            "tensor([[0.7932, 0.2643, 0.5500],\n",
            "        [0.4938, 0.7337, 0.1532],\n",
            "        [0.5237, 0.9667, 0.8570],\n",
            "        [0.0044, 0.4247, 0.5047],\n",
            "        [0.3349, 0.1715, 0.1521]])\n"
          ]
        }
      ]
    },
    {
      "cell_type": "code",
      "source": [
        "x = torch.tensor([1, 2, 4, 8])\n",
        "y = torch.tensor([1, 2, 3, 4])\n",
        "x + y, x - y, x * y, x / y, x**y  # The `**` is the exponentiation operator"
      ],
      "metadata": {
        "colab": {
          "base_uri": "https://localhost:8080/"
        },
        "id": "jAcc5qFEgdXz",
        "outputId": "69ca28a6-7b4f-4c6d-9af9-f441bcd0f264"
      },
      "execution_count": null,
      "outputs": [
        {
          "output_type": "execute_result",
          "data": {
            "text/plain": [
              "(tensor([ 2,  4,  7, 12]),\n",
              " tensor([0, 0, 1, 4]),\n",
              " tensor([ 1,  4, 12, 32]),\n",
              " tensor([1.0000, 1.0000, 1.3333, 2.0000]),\n",
              " tensor([   1,    4,   64, 4096]))"
            ]
          },
          "metadata": {},
          "execution_count": 34
        }
      ]
    },
    {
      "cell_type": "code",
      "source": [
        "#Tensor Methods\n",
        "x = torch.rand(3, 3)\n",
        "print(x)\n",
        "print(\"\\n\")\n",
        "# sum() - note the axis is the axis you move across when summing\n",
        "print(f\"Sum of every element of x: {x.sum()}\")\n",
        "print(f\"Sum of the columns of x: {x.sum(axis=0)}\")\n",
        "print(f\"Sum of the rows of x: {x.sum(axis=1)}\")\n",
        "print(\"\\n\")\n",
        "\n",
        "print(f\"Mean value of all elements of x {x.mean()}\")\n",
        "print(f\"Mean values of the columns of x {x.mean(axis=0)}\")\n",
        "print(f\"Mean values of the rows of x {x.mean(axis=1)}\")"
      ],
      "metadata": {
        "colab": {
          "base_uri": "https://localhost:8080/"
        },
        "id": "pQT8XBYhhTFA",
        "outputId": "c58723d5-c0cd-4828-906f-f9ba0759c865"
      },
      "execution_count": null,
      "outputs": [
        {
          "output_type": "stream",
          "name": "stdout",
          "text": [
            "tensor([[0.8322, 0.3381, 0.4678],\n",
            "        [0.6467, 0.1931, 0.5446],\n",
            "        [0.7974, 0.2077, 0.6455]])\n",
            "\n",
            "\n",
            "Sum of every element of x: 4.673100471496582\n",
            "Sum of the columns of x: tensor([2.2764, 0.7389, 1.6579])\n",
            "Sum of the rows of x: tensor([1.6382, 1.3844, 1.6505])\n",
            "\n",
            "\n",
            "Mean value of all elements of x 0.5192334055900574\n",
            "Mean values of the columns of x tensor([0.7588, 0.2463, 0.5526])\n",
            "Mean values of the rows of x tensor([0.5461, 0.4615, 0.5502])\n"
          ]
        }
      ]
    },
    {
      "cell_type": "code",
      "source": [
        "#Matrix Operations\n",
        "#Coding Exercise 2.2 : Simple tensor operations\n",
        "def simple_operations(a1: torch.Tensor, a2: torch.Tensor, a3: torch.Tensor):\n",
        "  \"\"\"\n",
        "  Helper function to demonstrate simple operations\n",
        "  i.e., Multiplication of tensor a1 with tensor a2 and then add it with tensor a3\n",
        "\n",
        "  Args:\n",
        "    a1: Torch tensor\n",
        "      Tensor of size ([2,2])\n",
        "    a2: Torch tensor\n",
        "      Tensor of size ([2,2])\n",
        "    a3: Torch tensor\n",
        "      Tensor of size ([2,2])\n",
        "\n",
        "  Returns:\n",
        "    answer: Torch tensor\n",
        "      Tensor of size ([2,2]) resulting from a1 multiplied with a2, added with a3\n",
        "  \"\"\"\n",
        "  ################################################\n",
        "  ## TODO for students:  complete the first computation using the argument matricies\n",
        "  #raise NotImplementedError(\"Student exercise: fill in the missing code to complete the operation\")\n",
        "  ################################################\n",
        "  #\n",
        "  answer = torch.matmul(a1,a2)+a3\n",
        "  return answer\n",
        "\n",
        "\n",
        "# Computing expression 1:\n",
        "\n",
        "# init our tensors\n",
        "a1 = torch.tensor([[2, 4], [5, 7]])\n",
        "a2 = torch.tensor([[1, 1], [2, 3]])\n",
        "a3 = torch.tensor([[10, 10], [12, 1]])\n",
        "## uncomment to test your function\n",
        "A = simple_operations(a1, a2, a3)\n",
        "print(A)"
      ],
      "metadata": {
        "colab": {
          "base_uri": "https://localhost:8080/"
        },
        "id": "FoN0TA8Qhm8c",
        "outputId": "e8893fac-a86a-41d9-9b13-9ccddc0c9101"
      },
      "execution_count": null,
      "outputs": [
        {
          "output_type": "stream",
          "name": "stdout",
          "text": [
            "tensor([[2, 4],\n",
            "        [5, 7]])\n",
            "tensor([[20, 24],\n",
            "        [31, 27]])\n"
          ]
        }
      ]
    },
    {
      "cell_type": "code",
      "source": [
        "def dot_product(b1: torch.Tensor, b2: torch.Tensor):\n",
        "  ###############################################\n",
        "  ## TODO for students:  complete the first computation using the argument matricies\n",
        "  #raise NotImplementedError(\"Student exercise: fill in the missing code to complete the operation\")\n",
        "  ###############################################\n",
        "  \"\"\"\n",
        "  Helper function to demonstrate dot product operation\n",
        "  Dot product is an algebraic operation that takes two equal-length sequences\n",
        "  (usually coordinate vectors), and returns a single number.\n",
        "  Geometrically, it is the product of the Euclidean magnitudes of the\n",
        "  two vectors and the cosine of the angle between them.\n",
        "\n",
        "  Args:\n",
        "    b1: Torch tensor\n",
        "      Tensor of size ([3])\n",
        "    b2: Torch tensor\n",
        "      Tensor of size ([3])\n",
        "\n",
        "  Returns:\n",
        "    product: Tensor\n",
        "      Tensor of size ([1]) resulting from b1 scalar multiplied with b2\n",
        "  \"\"\"\n",
        "  # Use torch.dot() to compute the dot product of two tensors\n",
        "  product = torch.dot(b1, b2)\n",
        "  return product\n",
        "\n",
        "\n",
        "# Computing expression 2:\n",
        "b1 = torch.tensor([3, 5, 7])\n",
        "b2 = torch.tensor([2, 4, 8])\n",
        "## Uncomment to test your function\n",
        "b = dot_product(b1, b2)\n",
        "print(b)\n"
      ],
      "metadata": {
        "colab": {
          "base_uri": "https://localhost:8080/"
        },
        "id": "sZxEiiLDn8Ki",
        "outputId": "84eb8a1b-82f4-4ffe-eba0-d965492465ac"
      },
      "execution_count": null,
      "outputs": [
        {
          "output_type": "stream",
          "name": "stdout",
          "text": [
            "tensor(82)\n"
          ]
        }
      ]
    },
    {
      "cell_type": "code",
      "source": [
        "#Indexing is also referred to as slicing.\n",
        "x = torch.arange(0, 10)\n",
        "print(x)\n",
        "print(x[-1])\n",
        "print(x[1:3])\n",
        "print(x[:-2])\n",
        "#When we have multidimensional tensors, indexing rules work the same way as NumPy\n",
        "# make a 5D tensor\n",
        "x = torch.rand(1, 2, 3, 4, 5)\n",
        "\n",
        "print(f\" shape of x[0]:{x[0].shape}\")\n",
        "print(f\" shape of x[0][0]:{x[0][0].shape}\")\n",
        "print(f\" shape of x[0][0][0]:{x[0][0][0].shape}\")\n",
        "\n",
        "#Flatten and reshape\n",
        "z = torch.arange(12).reshape(6, 2)\n",
        "print(f\"Original z: \\n {z}\")\n",
        "\n",
        "# 2D -> 1D\n",
        "z = z.flatten()\n",
        "print(f\"Flattened z: \\n {z}\")\n",
        "\n",
        "# and back to 2D\n",
        "z = z.reshape(3, 4)\n",
        "print(f\"Reshaped (3x4) z: \\n {z}\")\n",
        "\n",
        "#Squeezing tensors to deal with singleton dimensions. E.g., [1,10] or [256, 1, 3]\n",
        "#In order to compress tensors along their singleton dimensions we can use the .squeeze() method\n",
        "x = torch.randn(1, 10)\n",
        "# printing the zeroth element of the tensor will not give us the first number!\n",
        "\n",
        "print(x.shape)\n",
        "print(f\"x[0]: {x[0]}\")\n",
        "#Because of that pesky singleton dimension, x[0] gave us the first row instead!\n",
        "# Let's get rid of that singleton dimension and see what happens now\n",
        "x = x.squeeze(0)\n",
        "print(x.shape)\n",
        "print(f\"x[0]: {x[0]}\")\n",
        "# Adding singleton dimensions works a similar way, and is often used when tensors\n",
        "# being added need same number of dimensions\n",
        "\n",
        "y = torch.randn(5, 5)\n",
        "print(f\"Shape of y: {y.shape}\")\n",
        "\n",
        "# lets insert a singleton dimension\n",
        "y = y.unsqueeze(1)\n",
        "print(f\"Shape of y: {y.shape}\")\n",
        "\n",
        "# Permutation\n",
        "#we may be dealing with RGB images with dim [3×48×64]\n",
        "#, but our pipeline expects the colour dimension to be the last dimension, i.e., [48×64×3]\n",
        "# To get around this we can use the .permute() method.\n",
        "\n",
        "# `x` has dimensions [color,image_height,image_width]\n",
        "x = torch.rand(3, 48, 64)\n",
        "\n",
        "# We want to permute our tensor to be [ image_height , image_width , color ]\n",
        "x = x.permute(1, 2, 0)\n",
        "# permute(1,2,0) means:\n",
        "# The 0th dim of my new tensor = the 1st dim of my old tensor\n",
        "# The 1st dim of my new tensor = the 2nd\n",
        "# The 2nd dim of my new tensor = the 0th\n",
        "print(x.shape)\n",
        "\n",
        "# Concatenation\n",
        "#In this example, we concatenate two matrices along rows (axis 0, the first element of the shape)\n",
        "# vs. columns (axis 1, the second element of the shape).\n",
        "# Create two tensors of the same shape\n",
        "x = torch.arange(12, dtype=torch.float32).reshape((3, 4))\n",
        "y = torch.tensor([[2.0, 1, 4, 3], [1, 2, 3, 4], [4, 3, 2, 1]])\n",
        "\n",
        "# Concatenate along rows\n",
        "cat_rows = torch.cat((x, y), dim=0)\n",
        "\n",
        "# Concatenate along columns\n",
        "cat_cols = torch.cat((x, y), dim=1)\n",
        "\n",
        "# Printing outputs\n",
        "print('Concatenated by rows: shape{} \\n {}'.format(list(cat_rows.shape), cat_rows))\n",
        "print('\\n Concatenated by colums: shape{}  \\n {}'.format(list(cat_cols.shape), cat_cols))\n",
        "\n",
        "#Converting a tensor to a numpy.ndarray, or vice versa\n",
        "#This minor inconvenience is quite important: when you perform operations on the CPU or GPUs,\n",
        "#you do not want to halt computation, waiting to see whether the NumPy package of Python might\n",
        "#want to be doing something else with the same chunk of memory.\n",
        "x = torch.randn(5)\n",
        "print(f\"x: {x}  |  x type:  {x.type()}\")\n",
        "\n",
        "y = x.numpy()\n",
        "print(f\"y: {y}  |  y type:  {type(y)}\")\n",
        "\n",
        "z = torch.tensor(y)\n",
        "print(f\"z: {z}  |  z type:  {z.type()}\")\n",
        "\n",
        "#To convert a size-1 tensor to a Python scalar, we can invoke the item function or Python’s built-in functions.\n",
        "a = torch.tensor([3.5])\n",
        "a, a.item(), float(a), int(a)\n"
      ],
      "metadata": {
        "colab": {
          "base_uri": "https://localhost:8080/"
        },
        "id": "p9Rumg_CRHaW",
        "outputId": "6b8c74e7-6086-4dca-980e-390581c38283"
      },
      "execution_count": null,
      "outputs": [
        {
          "output_type": "stream",
          "name": "stdout",
          "text": [
            "tensor([0, 1, 2, 3, 4, 5, 6, 7, 8, 9])\n",
            "tensor(9)\n",
            "tensor([1, 2])\n",
            "tensor([0, 1, 2, 3, 4, 5, 6, 7])\n"
          ]
        }
      ]
    },
    {
      "cell_type": "code",
      "source": [
        "#Coding Exercise 2.3: Manipulating Tensors\n",
        "def functionA(my_tensor1, my_tensor2):\n",
        "  \"\"\"\n",
        "  This function takes in two 2D tensors `my_tensor1` and `my_tensor2`\n",
        "  and returns the column sum of\n",
        "  `my_tensor1` multiplied by the sum of all the elmements of `my_tensor2`,\n",
        "  i.e., a scalar.\n",
        "\n",
        "  Args:\n",
        "    my_tensor1: torch.Tensor\n",
        "    my_tensor2: torch.Tensor\n",
        "\n",
        "  Returns:\n",
        "    output: torch.Tensor\n",
        "      The multiplication of the column sum of `my_tensor1` by the sum of\n",
        "      `my_tensor2`.\n",
        "  \"\"\"\n",
        "  # TODO multiplication the sum of the tensors\n",
        "  output = my_tensor1.sum(axis=0) * my_tensor2.sum()\n",
        "\n",
        "  return output\n",
        "\n",
        "\n",
        "def functionB(my_tensor):\n",
        "  \"\"\"\n",
        "  This function takes in a square matrix `my_tensor` and returns a 2D tensor\n",
        "  consisting of a flattened `my_tensor` with the index of each element\n",
        "  appended to this tensor in the row dimension.\n",
        "\n",
        "  Args:\n",
        "    my_tensor: torch.Tensor\n",
        "\n",
        "  Returns:\n",
        "    output: torch.Tensor\n",
        "      Concatenated tensor.\n",
        "  \"\"\"\n",
        "  # TODO flatten the tensor `my_tensor`\n",
        "  my_tensor = my_tensor.flatten()\n",
        "  # TODO create the idx tensor to be concatenated to `my_tensor`\n",
        "  idx_tensor = torch.arange(0, len(my_tensor))\n",
        "  # TODO concatenate the two tensors\n",
        "  output = torch.cat([idx_tensor.unsqueeze(1), my_tensor.unsqueeze(1)], axis=1)\n",
        "\n",
        "  return output\n",
        "\n",
        "\n",
        "def functionC(my_tensor1, my_tensor2):\n",
        "  \"\"\"\n",
        "  This function takes in two 2D tensors `my_tensor1` and `my_tensor2`.\n",
        "  If the dimensions allow it, it returns the\n",
        "  elementwise sum of `my_tensor1`-shaped `my_tensor2`, and `my_tensor2`;\n",
        "  else this function returns a 1D tensor that is the concatenation of the\n",
        "  two tensors.\n",
        "\n",
        "  Args:\n",
        "    my_tensor1: torch.Tensor\n",
        "    my_tensor2: torch.Tensor\n",
        "\n",
        "  Returns:\n",
        "    output: torch.Tensor\n",
        "      Concatenated tensor.\n",
        "  \"\"\"\n",
        "  # TODO check we can reshape `my_tensor2` into the shape of `my_tensor1`\n",
        "  if torch.numel(my_tensor1) == torch.numel(my_tensor2):\n",
        "    # TODO reshape `my_tensor2` into the shape of `my_tensor1`\n",
        "    my_tensor2 = my_tensor2.reshape(my_tensor1.shape)\n",
        "    # TODO sum the two tensors\n",
        "    output = my_tensor1 + my_tensor2\n",
        "  else:\n",
        "    # TODO flatten both tensors. -1 means remove that dimension\n",
        "    my_tensor1 = my_tensor1.reshape(1, -1)\n",
        "    my_tensor2 = my_tensor2.reshape(1, -1)\n",
        "    # TODO concatenate the two tensors in the correct dimension\n",
        "    output = torch.cat([my_tensor1, my_tensor2], axis=1).squeeze()\n",
        "\n",
        "  return output\n",
        "\n",
        "\n",
        "## Implement the functions above and then uncomment the following lines to test your code\n",
        "print(functionA(torch.tensor([[1, 1], [1, 1]]), torch.tensor([[1, 2, 3], [1, 2, 3]])))\n",
        "print(functionB(torch.tensor([[2, 3], [-1, 10]])))\n",
        "print(functionC(torch.tensor([[1, -1], [-1, 3]]), torch.tensor([[2, 3, 0, 2]])))\n",
        "print(functionC(torch.tensor([[1, -1], [-1, 3]]), torch.tensor([[2, 3, 0]])))"
      ],
      "metadata": {
        "colab": {
          "base_uri": "https://localhost:8080/"
        },
        "id": "KzHgvJOtUF3-",
        "outputId": "c359a774-e1ef-47e0-906e-1582663ce50f"
      },
      "execution_count": null,
      "outputs": [
        {
          "output_type": "stream",
          "name": "stdout",
          "text": [
            "tensor([24, 24])\n",
            "tensor([[ 0,  2],\n",
            "        [ 1,  3],\n",
            "        [ 2, -1],\n",
            "        [ 3, 10]])\n",
            "tensor([[ 3,  2],\n",
            "        [-1,  5]])\n",
            "tensor([ 1, -1, -1,  3,  2,  3,  0])\n"
          ]
        }
      ]
    },
    {
      "cell_type": "code",
      "source": [
        "#Coding Exercise 2.4: Just how much faster are GPUs?\n",
        "#CPU or GPU specified by the parameter device\n",
        "dim = 10000\n",
        "iterations = 1\n",
        "def simpleFun(dim, device):\n",
        "  \"\"\"\n",
        "  Helper function to check device-compatiblity with computations\n",
        "\n",
        "  Args:\n",
        "    dim: Integer\n",
        "    device: String\n",
        "      \"cpu\" or \"cuda\"\n",
        "\n",
        "  Returns:\n",
        "    Nothing.\n",
        "  \"\"\"\n",
        "  # 2D tensor filled with uniform random numbers in [0,1), dim x dim\n",
        "  x = torch.rand(dim, dim).to(device)\n",
        "  # 2D tensor filled with uniform random numbers in [0,1), dim x dim\n",
        "  y = torch.rand_like(x).to(device)\n",
        "  # 2D tensor filled with the scalar value 2, dim x dim\n",
        "  z = 2*torch.ones(dim, dim).to(device)\n",
        "\n",
        "  # elementwise multiplication of x and y\n",
        "  a = x * y\n",
        "  # matrix multiplication of x and z\n",
        "  b = x @ z\n",
        "\n",
        "  del x\n",
        "  del y\n",
        "  del z\n",
        "  del a\n",
        "  del b\n",
        "\n",
        "\n",
        "## Implement the function above and uncomment the following lines to test your code\n",
        "timeFun(f=simpleFun, dim=dim, iterations=iterations)\n",
        "timeFun(f=simpleFun, dim=dim, iterations=iterations, device=DEVICE)"
      ],
      "metadata": {
        "colab": {
          "base_uri": "https://localhost:8080/",
          "height": 222
        },
        "id": "u8LyxYS_YrEF",
        "outputId": "021f2916-a79a-456a-c603-9687caf57df4"
      },
      "execution_count": null,
      "outputs": [
        {
          "output_type": "error",
          "ename": "NameError",
          "evalue": "ignored",
          "traceback": [
            "\u001b[0;31m---------------------------------------------------------------------------\u001b[0m",
            "\u001b[0;31mNameError\u001b[0m                                 Traceback (most recent call last)",
            "\u001b[0;32m<ipython-input-2-20abde049dd4>\u001b[0m in \u001b[0;36m<cell line: 37>\u001b[0;34m()\u001b[0m\n\u001b[1;32m     35\u001b[0m \u001b[0;34m\u001b[0m\u001b[0m\n\u001b[1;32m     36\u001b[0m \u001b[0;31m## Implement the function above and uncomment the following lines to test your code\u001b[0m\u001b[0;34m\u001b[0m\u001b[0;34m\u001b[0m\u001b[0m\n\u001b[0;32m---> 37\u001b[0;31m \u001b[0mtimeFun\u001b[0m\u001b[0;34m(\u001b[0m\u001b[0mf\u001b[0m\u001b[0;34m=\u001b[0m\u001b[0msimpleFun\u001b[0m\u001b[0;34m,\u001b[0m \u001b[0mdim\u001b[0m\u001b[0;34m=\u001b[0m\u001b[0mdim\u001b[0m\u001b[0;34m,\u001b[0m \u001b[0miterations\u001b[0m\u001b[0;34m=\u001b[0m\u001b[0miterations\u001b[0m\u001b[0;34m)\u001b[0m\u001b[0;34m\u001b[0m\u001b[0;34m\u001b[0m\u001b[0m\n\u001b[0m\u001b[1;32m     38\u001b[0m \u001b[0mtimeFun\u001b[0m\u001b[0;34m(\u001b[0m\u001b[0mf\u001b[0m\u001b[0;34m=\u001b[0m\u001b[0msimpleFun\u001b[0m\u001b[0;34m,\u001b[0m \u001b[0mdim\u001b[0m\u001b[0;34m=\u001b[0m\u001b[0mdim\u001b[0m\u001b[0;34m,\u001b[0m \u001b[0miterations\u001b[0m\u001b[0;34m=\u001b[0m\u001b[0miterations\u001b[0m\u001b[0;34m,\u001b[0m \u001b[0mdevice\u001b[0m\u001b[0;34m=\u001b[0m\u001b[0mDEVICE\u001b[0m\u001b[0;34m)\u001b[0m\u001b[0;34m\u001b[0m\u001b[0;34m\u001b[0m\u001b[0m\n",
            "\u001b[0;31mNameError\u001b[0m: name 'timeFun' is not defined"
          ]
        }
      ]
    },
    {
      "cell_type": "code",
      "source": [
        "# Section 2.5: Datasets and Dataloaders\n",
        "# Import dataset and dataloaders related packages\n",
        "# The torchvision package gives you easy access to many of the publicly available datasets.\n",
        "# the CIFAR10 dataset, which contains color images of 10 different classes, like vehicles and animals.\n",
        "# Creating an object of type datasets.CIFAR10 will automatically download and load all images from the dataset.\n",
        "# The resulting data structure can be treated as a list containing data samples and their corresponding labels.\n",
        "from torchvision import datasets\n",
        "from torchvision.transforms import ToTensor\n",
        "from torch.utils.data import DataLoader\n",
        "from torchvision.transforms import Compose, Grayscale\n"
      ],
      "metadata": {
        "id": "IxSYBCODTGjw"
      },
      "execution_count": null,
      "outputs": []
    },
    {
      "cell_type": "code",
      "source": [
        "# Download and load the images from the CIFAR10 dataset\n",
        "cifar10_data = datasets.CIFAR10(\n",
        "    root=\"data\",  # path where the images will be stored\n",
        "    download=True,  # all images should be downloaded\n",
        "    transform=ToTensor()  # transform the images to tensors\n",
        "    )\n",
        "\n",
        "# Print the number of samples in the loaded dataset\n",
        "print(f\"Number of samples: {len(cifar10_data)}\")\n",
        "print(f\"Class names: {cifar10_data.classes}\")"
      ],
      "metadata": {
        "colab": {
          "base_uri": "https://localhost:8080/"
        },
        "id": "9KXqXmqqTzOe",
        "outputId": "416a9694-f3e9-4aa9-c2aa-27f69755306c"
      },
      "execution_count": null,
      "outputs": [
        {
          "output_type": "stream",
          "name": "stdout",
          "text": [
            "Downloading https://www.cs.toronto.edu/~kriz/cifar-10-python.tar.gz to data/cifar-10-python.tar.gz\n"
          ]
        },
        {
          "output_type": "stream",
          "name": "stderr",
          "text": [
            "100%|██████████| 170498071/170498071 [00:04<00:00, 34616138.02it/s]\n"
          ]
        },
        {
          "output_type": "stream",
          "name": "stdout",
          "text": [
            "Extracting data/cifar-10-python.tar.gz to data\n",
            "Number of samples: 50000\n",
            "Class names: ['airplane', 'automobile', 'bird', 'cat', 'deer', 'dog', 'frog', 'horse', 'ship', 'truck']\n"
          ]
        }
      ]
    },
    {
      "cell_type": "code",
      "source": [
        "# Choose a random sample\n",
        "random.seed(2021)\n",
        "image, label = cifar10_data[random.randint(0, len(cifar10_data))]\n",
        "#Color images are modeled as 3 dimensional tensors. The first dimension corresponds to the channels (C\n",
        "#) of the image (in this case we have RGB images). The second dimensions is the height (H\n",
        "#) of the image and the third is the width (W\n",
        "#). We can denote this image format as C×H×W\n",
        "print(f\"Label: {cifar10_data.classes[label]}\")\n",
        "print(f\"Image size: {image.shape}\")"
      ],
      "metadata": {
        "colab": {
          "base_uri": "https://localhost:8080/"
        },
        "id": "EJgOa5npUKCs",
        "outputId": "61fe87b7-bfae-4476-fa6f-7e032c602e69"
      },
      "execution_count": null,
      "outputs": [
        {
          "output_type": "stream",
          "name": "stdout",
          "text": [
            "Label: horse\n",
            "Image size: torch.Size([3, 32, 32])\n"
          ]
        }
      ]
    },
    {
      "cell_type": "code",
      "source": [
        "# Coding Exercise 2.5: Display an image from the dataset\n",
        "# Let’s try to display the image using matplotlib.\n",
        "#  The imshow expects to have the image in a different format, i.e., C×H×W\n",
        "# You need to reorder the dimensions of the tensor using the permute method of the tensor\n",
        "# The size of the returned tensor remains the same as that of the original.\n",
        "\n",
        "# create a tensor of size 2 x 4\n",
        "input_var = torch.randn(2, 4)\n",
        "# print its size and the tensor\n",
        "print(input_var.size())\n",
        "print(input_var)\n",
        "\n",
        "# dimensions permuted\n",
        "input_var = input_var.permute(1, 0)\n",
        "# print its size and the permuted tensor\n",
        "print(input_var.size())\n",
        "print(input_var)\n",
        "\n",
        "# TODO: Uncomment the following line to see the error that arises from the current image format\n",
        "# TODO: Comment the above line and fix this code by reordering the tensor dimensions\n",
        "#plt.imshow(image)\n",
        "plt.imshow(image.permute(1, 2, 0))\n",
        "plt.show()\n",
        "\n",
        "\n",
        "\n"
      ],
      "metadata": {
        "colab": {
          "base_uri": "https://localhost:8080/",
          "height": 573
        },
        "id": "19qvF1GiUnP8",
        "outputId": "40ab9f90-ec76-4667-ed1c-10f142a226fc"
      },
      "execution_count": null,
      "outputs": [
        {
          "output_type": "stream",
          "name": "stdout",
          "text": [
            "torch.Size([2, 4])\n",
            "tensor([[-0.0770, -1.6534,  0.3634, -0.1355],\n",
            "        [ 0.9027, -1.3745, -0.4260,  0.7094]])\n",
            "torch.Size([4, 2])\n",
            "tensor([[-0.0770,  0.9027],\n",
            "        [-1.6534, -1.3745],\n",
            "        [ 0.3634, -0.4260],\n",
            "        [-0.1355,  0.7094]])\n"
          ]
        },
        {
          "output_type": "display_data",
          "data": {
            "text/plain": [
              "<Figure size 640x480 with 1 Axes>"
            ],
            "image/png": "[encoded data removed]"
          },
          "metadata": {}
        }
      ]
    },
    {
      "cell_type": "code",
      "source": [
        "\n",
        "# Load the training samples\n",
        "training_data = datasets.CIFAR10(\n",
        "    root=\"data\",\n",
        "    train=True,\n",
        "    download=True,\n",
        "    transform=ToTensor()\n",
        "    )\n",
        "\n",
        "# Load the test samples\n",
        "test_data = datasets.CIFAR10(\n",
        "    root=\"data\",\n",
        "    train=False,\n",
        "    download=True,\n",
        "    transform=ToTensor()\n",
        "    )"
      ],
      "metadata": {
        "colab": {
          "base_uri": "https://localhost:8080/"
        },
        "id": "wITz7snQn00M",
        "outputId": "093ae23e-e42b-4fb9-8cd6-0c495869773c"
      },
      "execution_count": null,
      "outputs": [
        {
          "output_type": "stream",
          "name": "stdout",
          "text": [
            "Files already downloaded and verified\n",
            "Files already downloaded and verified\n"
          ]
        }
      ]
    },
    {
      "cell_type": "code",
      "source": [
        "# Dataloader\n",
        "#  It is a wrapper around the Dataset that splits it into minibatches\n",
        "# (important for training the neural network) and makes the data iterable\n",
        "#  The shuffle argument is used to shuffle the order of the samples across the minibatches\n",
        "# Create dataloaders with\n",
        "train_dataloader = DataLoader(training_data, batch_size=64, shuffle=True)\n",
        "test_dataloader = DataLoader(test_data, batch_size=64, shuffle=True)\n",
        "# Reproducibility: DataLoader will reseed workers following Randomness\n",
        "# in multi-process data loading algorithm. Use worker_init_fn() and a generator to preserve reproducibility\n",
        "def seed_worker(worker_id):\n",
        "  worker_seed = torch.initial_seed() % 2**32\n",
        "  numpy.random.seed(worker_seed)\n",
        "  my_seed=random.seed(worker_seed)\n",
        "\n",
        "\n",
        "g_seed = torch.Generator()\n",
        "g_seed.manual_seed(my_seed)\n",
        "\n",
        "DataLoader(\n",
        "    train_dataset,\n",
        "    batch_size=batch_size,\n",
        "    num_workers=num_workers,\n",
        "    worker_init_fn=seed_worker,\n",
        "    generator=g_seed\n",
        "    )\n",
        "#Important: For the seed_worker to have an effect, num_workers should be 2 or more.\n"
      ],
      "metadata": {
        "colab": {
          "base_uri": "https://localhost:8080/",
          "height": 240
        },
        "id": "7fiEtGz8r-n_",
        "outputId": "2921e102-7e96-4594-bd2c-215f8dcd47d5"
      },
      "execution_count": null,
      "outputs": [
        {
          "output_type": "error",
          "ename": "NameError",
          "evalue": "ignored",
          "traceback": [
            "\u001b[0;31m---------------------------------------------------------------------------\u001b[0m",
            "\u001b[0;31mNameError\u001b[0m                                 Traceback (most recent call last)",
            "\u001b[0;32m<ipython-input-16-d50531a47616>\u001b[0m in \u001b[0;36m<cell line: 17>\u001b[0;34m()\u001b[0m\n\u001b[1;32m     15\u001b[0m \u001b[0;34m\u001b[0m\u001b[0m\n\u001b[1;32m     16\u001b[0m \u001b[0mg_seed\u001b[0m \u001b[0;34m=\u001b[0m \u001b[0mtorch\u001b[0m\u001b[0;34m.\u001b[0m\u001b[0mGenerator\u001b[0m\u001b[0;34m(\u001b[0m\u001b[0;34m)\u001b[0m\u001b[0;34m\u001b[0m\u001b[0;34m\u001b[0m\u001b[0m\n\u001b[0;32m---> 17\u001b[0;31m \u001b[0mg_seed\u001b[0m\u001b[0;34m.\u001b[0m\u001b[0mmanual_seed\u001b[0m\u001b[0;34m(\u001b[0m\u001b[0mmy_seed\u001b[0m\u001b[0;34m)\u001b[0m\u001b[0;34m\u001b[0m\u001b[0;34m\u001b[0m\u001b[0m\n\u001b[0m\u001b[1;32m     18\u001b[0m \u001b[0;34m\u001b[0m\u001b[0m\n\u001b[1;32m     19\u001b[0m DataLoader(\n",
            "\u001b[0;31mNameError\u001b[0m: name 'my_seed' is not defined"
          ]
        }
      ]
    },
    {
      "cell_type": "code",
      "source": [
        "# Load the next batch\n",
        "batch_images, batch_labels = next(iter(train_dataloader))\n",
        "print('Batch size:', batch_images.shape)\n",
        "\n",
        "# Display the first image from the batch\n",
        "plt.imshow(batch_images[0].permute(1, 2, 0))\n",
        "plt.show()"
      ],
      "metadata": {
        "colab": {
          "base_uri": "https://localhost:8080/",
          "height": 448
        },
        "id": "hMyI5gvztMsN",
        "outputId": "fef9f144-ce77-4918-83a9-d5d41db66741"
      },
      "execution_count": null,
      "outputs": [
        {
          "output_type": "stream",
          "name": "stdout",
          "text": [
            "Batch size: torch.Size([64, 3, 32, 32])\n"
          ]
        },
        {
          "output_type": "display_data",
          "data": {
            "text/plain": [
              "<Figure size 640x480 with 1 Axes>"
            ],
            "image/png": "[encoded data removed]"
          },
          "metadata": {}
        }
      ]
    },
    {
      "cell_type": "code",
      "source": [
        "# Transformations\n",
        "# There are many predefined transformations in the torchvision.transforms package and you can also combine them using the Compose transform.\n",
        "# Coding Exercise 2.6: Load the CIFAR10 dataset as grayscale images\n",
        "def my_data_load():\n",
        "  \"\"\"\n",
        "  Function to load CIFAR10 data as grayscale images\n",
        "\n",
        "  Args:\n",
        "    None\n",
        "\n",
        "  Returns:\n",
        "    data: DataFrame\n",
        "      CIFAR10 loaded Dataframe of shape (3309, 14)\n",
        "  \"\"\"\n",
        "  ## TODO Load the CIFAR10 data using a transform that converts the images to grayscale tensors\n",
        "  data = datasets.CIFAR10(root=\"data\", download=True,\n",
        "                          transform=Compose([ToTensor(), Grayscale()]))\n",
        "  # Display a random grayscale image\n",
        "  image, label = data[random.randint(0, len(data))]\n",
        "  plt.imshow(image.squeeze(), cmap=\"gray\")\n",
        "  plt.show()\n",
        "\n",
        "  return data\n",
        "\n",
        "\n",
        "#set_seed(seed=2021)\n",
        "## After implementing the above code, uncomment the following lines to test your code\n",
        "data = my_data_load()"
      ],
      "metadata": {
        "colab": {
          "base_uri": "https://localhost:8080/",
          "height": 448
        },
        "id": "XIzVVreQtUDx",
        "outputId": "10b004bc-c99c-4106-d5bd-de39238203b1"
      },
      "execution_count": null,
      "outputs": [
        {
          "output_type": "stream",
          "name": "stdout",
          "text": [
            "Files already downloaded and verified\n"
          ]
        },
        {
          "output_type": "display_data",
          "data": {
            "text/plain": [
              "<Figure size 640x480 with 1 Axes>"
            ],
            "image/png": "[encoded data removed]"
          },
          "metadata": {}
        }
      ]
    },
    {
      "cell_type": "code",
      "source": [
        "# Section 3: Neural Networks\n",
        "# Creating a simple neural network model\n",
        "# Training the network\n",
        "# Visualizing the results of the network\n",
        "# Tweaking the network\n",
        "# Generate sample data-  load the data from the CSV file using the Pandas library\n",
        "# in Pandas  we can reference the columns directly by their names\n",
        "# Load the data from the CSV file in a Pandas DataFrame\n",
        "data = pd.read_csv(\"sample_data.csv\")\n",
        "\n",
        "# Create a 2D numpy array from the x0 and x1 columns\n",
        "X_orig = data[[\"x0\", \"x1\"]].to_numpy()\n",
        "\n",
        "# Create a 1D numpy array from the y column\n",
        "y_orig = data[\"y\"].to_numpy()\n",
        "\n",
        "# Print the sizes of the generated 2D points X and the corresponding labels Y\n",
        "print(f\"Size X:{X_orig.shape}\")\n",
        "print(f\"Size y:{y_orig.shape}\")\n",
        "\n",
        "# Visualize the dataset. The color of the points is determined by the labels `y_orig`.\n",
        "plt.scatter(X_orig[:, 0], X_orig[:, 1], s=40, c=y_orig)\n",
        "plt.show()"
      ],
      "metadata": {
        "colab": {
          "base_uri": "https://localhost:8080/",
          "height": 407
        },
        "id": "ZO0U3taluKfH",
        "outputId": "e8290b8a-5e36-4dc5-ba6e-7679926c2882"
      },
      "execution_count": null,
      "outputs": [
        {
          "output_type": "error",
          "ename": "FileNotFoundError",
          "evalue": "ignored",
          "traceback": [
            "\u001b[0;31m---------------------------------------------------------------------------\u001b[0m",
            "\u001b[0;31mFileNotFoundError\u001b[0m                         Traceback (most recent call last)",
            "\u001b[0;32m<ipython-input-20-18623a7fb746>\u001b[0m in \u001b[0;36m<cell line: 9>\u001b[0;34m()\u001b[0m\n\u001b[1;32m      7\u001b[0m \u001b[0;31m# in Pandas  we can reference the columns directly by their names\u001b[0m\u001b[0;34m\u001b[0m\u001b[0;34m\u001b[0m\u001b[0m\n\u001b[1;32m      8\u001b[0m \u001b[0;31m# Load the data from the CSV file in a Pandas DataFrame\u001b[0m\u001b[0;34m\u001b[0m\u001b[0;34m\u001b[0m\u001b[0m\n\u001b[0;32m----> 9\u001b[0;31m \u001b[0mdata\u001b[0m \u001b[0;34m=\u001b[0m \u001b[0mpd\u001b[0m\u001b[0;34m.\u001b[0m\u001b[0mread_csv\u001b[0m\u001b[0;34m(\u001b[0m\u001b[0;34m\"sample_data.csv\"\u001b[0m\u001b[0;34m)\u001b[0m\u001b[0;34m\u001b[0m\u001b[0;34m\u001b[0m\u001b[0m\n\u001b[0m\u001b[1;32m     10\u001b[0m \u001b[0;34m\u001b[0m\u001b[0m\n\u001b[1;32m     11\u001b[0m \u001b[0;31m# Create a 2D numpy array from the x0 and x1 columns\u001b[0m\u001b[0;34m\u001b[0m\u001b[0;34m\u001b[0m\u001b[0m\n",
            "\u001b[0;32m/usr/local/lib/python3.10/dist-packages/pandas/util/_decorators.py\u001b[0m in \u001b[0;36mwrapper\u001b[0;34m(*args, **kwargs)\u001b[0m\n\u001b[1;32m    209\u001b[0m                 \u001b[0;32melse\u001b[0m\u001b[0;34m:\u001b[0m\u001b[0;34m\u001b[0m\u001b[0;34m\u001b[0m\u001b[0m\n\u001b[1;32m    210\u001b[0m                     \u001b[0mkwargs\u001b[0m\u001b[0;34m[\u001b[0m\u001b[0mnew_arg_name\u001b[0m\u001b[0;34m]\u001b[0m \u001b[0;34m=\u001b[0m \u001b[0mnew_arg_value\u001b[0m\u001b[0;34m\u001b[0m\u001b[0;34m\u001b[0m\u001b[0m\n\u001b[0;32m--> 211\u001b[0;31m             \u001b[0;32mreturn\u001b[0m \u001b[0mfunc\u001b[0m\u001b[0;34m(\u001b[0m\u001b[0;34m*\u001b[0m\u001b[0margs\u001b[0m\u001b[0;34m,\u001b[0m \u001b[0;34m**\u001b[0m\u001b[0mkwargs\u001b[0m\u001b[0;34m)\u001b[0m\u001b[0;34m\u001b[0m\u001b[0;34m\u001b[0m\u001b[0m\n\u001b[0m\u001b[1;32m    212\u001b[0m \u001b[0;34m\u001b[0m\u001b[0m\n\u001b[1;32m    213\u001b[0m         \u001b[0;32mreturn\u001b[0m \u001b[0mcast\u001b[0m\u001b[0;34m(\u001b[0m\u001b[0mF\u001b[0m\u001b[0;34m,\u001b[0m \u001b[0mwrapper\u001b[0m\u001b[0;34m)\u001b[0m\u001b[0;34m\u001b[0m\u001b[0;34m\u001b[0m\u001b[0m\n",
            "\u001b[0;32m/usr/local/lib/python3.10/dist-packages/pandas/util/_decorators.py\u001b[0m in \u001b[0;36mwrapper\u001b[0;34m(*args, **kwargs)\u001b[0m\n\u001b[1;32m    329\u001b[0m                     \u001b[0mstacklevel\u001b[0m\u001b[0;34m=\u001b[0m\u001b[0mfind_stack_level\u001b[0m\u001b[0;34m(\u001b[0m\u001b[0;34m)\u001b[0m\u001b[0;34m,\u001b[0m\u001b[0;34m\u001b[0m\u001b[0;34m\u001b[0m\u001b[0m\n\u001b[1;32m    330\u001b[0m                 )\n\u001b[0;32m--> 331\u001b[0;31m             \u001b[0;32mreturn\u001b[0m \u001b[0mfunc\u001b[0m\u001b[0;34m(\u001b[0m\u001b[0;34m*\u001b[0m\u001b[0margs\u001b[0m\u001b[0;34m,\u001b[0m \u001b[0;34m**\u001b[0m\u001b[0mkwargs\u001b[0m\u001b[0;34m)\u001b[0m\u001b[0;34m\u001b[0m\u001b[0;34m\u001b[0m\u001b[0m\n\u001b[0m\u001b[1;32m    332\u001b[0m \u001b[0;34m\u001b[0m\u001b[0m\n\u001b[1;32m    333\u001b[0m         \u001b[0;31m# error: \"Callable[[VarArg(Any), KwArg(Any)], Any]\" has no\u001b[0m\u001b[0;34m\u001b[0m\u001b[0;34m\u001b[0m\u001b[0m\n",
            "\u001b[0;32m/usr/local/lib/python3.10/dist-packages/pandas/io/parsers/readers.py\u001b[0m in \u001b[0;36mread_csv\u001b[0;34m(filepath_or_buffer, sep, delimiter, header, names, index_col, usecols, squeeze, prefix, mangle_dupe_cols, dtype, engine, converters, true_values, false_values, skipinitialspace, skiprows, skipfooter, nrows, na_values, keep_default_na, na_filter, verbose, skip_blank_lines, parse_dates, infer_datetime_format, keep_date_col, date_parser, dayfirst, cache_dates, iterator, chunksize, compression, thousands, decimal, lineterminator, quotechar, quoting, doublequote, escapechar, comment, encoding, encoding_errors, dialect, error_bad_lines, warn_bad_lines, on_bad_lines, delim_whitespace, low_memory, memory_map, float_precision, storage_options)\u001b[0m\n\u001b[1;32m    948\u001b[0m     \u001b[0mkwds\u001b[0m\u001b[0;34m.\u001b[0m\u001b[0mupdate\u001b[0m\u001b[0;34m(\u001b[0m\u001b[0mkwds_defaults\u001b[0m\u001b[0;34m)\u001b[0m\u001b[0;34m\u001b[0m\u001b[0;34m\u001b[0m\u001b[0m\n\u001b[1;32m    949\u001b[0m \u001b[0;34m\u001b[0m\u001b[0m\n\u001b[0;32m--> 950\u001b[0;31m     \u001b[0;32mreturn\u001b[0m \u001b[0m_read\u001b[0m\u001b[0;34m(\u001b[0m\u001b[0mfilepath_or_buffer\u001b[0m\u001b[0;34m,\u001b[0m \u001b[0mkwds\u001b[0m\u001b[0;34m)\u001b[0m\u001b[0;34m\u001b[0m\u001b[0;34m\u001b[0m\u001b[0m\n\u001b[0m\u001b[1;32m    951\u001b[0m \u001b[0;34m\u001b[0m\u001b[0m\n\u001b[1;32m    952\u001b[0m \u001b[0;34m\u001b[0m\u001b[0m\n",
            "\u001b[0;32m/usr/local/lib/python3.10/dist-packages/pandas/io/parsers/readers.py\u001b[0m in \u001b[0;36m_read\u001b[0;34m(filepath_or_buffer, kwds)\u001b[0m\n\u001b[1;32m    603\u001b[0m \u001b[0;34m\u001b[0m\u001b[0m\n\u001b[1;32m    604\u001b[0m     \u001b[0;31m# Create the parser.\u001b[0m\u001b[0;34m\u001b[0m\u001b[0;34m\u001b[0m\u001b[0m\n\u001b[0;32m--> 605\u001b[0;31m     \u001b[0mparser\u001b[0m \u001b[0;34m=\u001b[0m \u001b[0mTextFileReader\u001b[0m\u001b[0;34m(\u001b[0m\u001b[0mfilepath_or_buffer\u001b[0m\u001b[0;34m,\u001b[0m \u001b[0;34m**\u001b[0m\u001b[0mkwds\u001b[0m\u001b[0;34m)\u001b[0m\u001b[0;34m\u001b[0m\u001b[0;34m\u001b[0m\u001b[0m\n\u001b[0m\u001b[1;32m    606\u001b[0m \u001b[0;34m\u001b[0m\u001b[0m\n\u001b[1;32m    607\u001b[0m     \u001b[0;32mif\u001b[0m \u001b[0mchunksize\u001b[0m \u001b[0;32mor\u001b[0m \u001b[0miterator\u001b[0m\u001b[0;34m:\u001b[0m\u001b[0;34m\u001b[0m\u001b[0;34m\u001b[0m\u001b[0m\n",
            "\u001b[0;32m/usr/local/lib/python3.10/dist-packages/pandas/io/parsers/readers.py\u001b[0m in \u001b[0;36m__init__\u001b[0;34m(self, f, engine, **kwds)\u001b[0m\n\u001b[1;32m   1440\u001b[0m \u001b[0;34m\u001b[0m\u001b[0m\n\u001b[1;32m   1441\u001b[0m         \u001b[0mself\u001b[0m\u001b[0;34m.\u001b[0m\u001b[0mhandles\u001b[0m\u001b[0;34m:\u001b[0m \u001b[0mIOHandles\u001b[0m \u001b[0;34m|\u001b[0m \u001b[0;32mNone\u001b[0m \u001b[0;34m=\u001b[0m \u001b[0;32mNone\u001b[0m\u001b[0;34m\u001b[0m\u001b[0;34m\u001b[0m\u001b[0m\n\u001b[0;32m-> 1442\u001b[0;31m         \u001b[0mself\u001b[0m\u001b[0;34m.\u001b[0m\u001b[0m_engine\u001b[0m \u001b[0;34m=\u001b[0m \u001b[0mself\u001b[0m\u001b[0;34m.\u001b[0m\u001b[0m_make_engine\u001b[0m\u001b[0;34m(\u001b[0m\u001b[0mf\u001b[0m\u001b[0;34m,\u001b[0m \u001b[0mself\u001b[0m\u001b[0;34m.\u001b[0m\u001b[0mengine\u001b[0m\u001b[0;34m)\u001b[0m\u001b[0;34m\u001b[0m\u001b[0;34m\u001b[0m\u001b[0m\n\u001b[0m\u001b[1;32m   1443\u001b[0m \u001b[0;34m\u001b[0m\u001b[0m\n\u001b[1;32m   1444\u001b[0m     \u001b[0;32mdef\u001b[0m \u001b[0mclose\u001b[0m\u001b[0;34m(\u001b[0m\u001b[0mself\u001b[0m\u001b[0;34m)\u001b[0m \u001b[0;34m->\u001b[0m \u001b[0;32mNone\u001b[0m\u001b[0;34m:\u001b[0m\u001b[0;34m\u001b[0m\u001b[0;34m\u001b[0m\u001b[0m\n",
            "\u001b[0;32m/usr/local/lib/python3.10/dist-packages/pandas/io/parsers/readers.py\u001b[0m in \u001b[0;36m_make_engine\u001b[0;34m(self, f, engine)\u001b[0m\n\u001b[1;32m   1733\u001b[0m                 \u001b[0;32mif\u001b[0m \u001b[0;34m\"b\"\u001b[0m \u001b[0;32mnot\u001b[0m \u001b[0;32min\u001b[0m \u001b[0mmode\u001b[0m\u001b[0;34m:\u001b[0m\u001b[0;34m\u001b[0m\u001b[0;34m\u001b[0m\u001b[0m\n\u001b[1;32m   1734\u001b[0m                     \u001b[0mmode\u001b[0m \u001b[0;34m+=\u001b[0m \u001b[0;34m\"b\"\u001b[0m\u001b[0;34m\u001b[0m\u001b[0;34m\u001b[0m\u001b[0m\n\u001b[0;32m-> 1735\u001b[0;31m             self.handles = get_handle(\n\u001b[0m\u001b[1;32m   1736\u001b[0m                 \u001b[0mf\u001b[0m\u001b[0;34m,\u001b[0m\u001b[0;34m\u001b[0m\u001b[0;34m\u001b[0m\u001b[0m\n\u001b[1;32m   1737\u001b[0m                 \u001b[0mmode\u001b[0m\u001b[0;34m,\u001b[0m\u001b[0;34m\u001b[0m\u001b[0;34m\u001b[0m\u001b[0m\n",
            "\u001b[0;32m/usr/local/lib/python3.10/dist-packages/pandas/io/common.py\u001b[0m in \u001b[0;36mget_handle\u001b[0;34m(path_or_buf, mode, encoding, compression, memory_map, is_text, errors, storage_options)\u001b[0m\n\u001b[1;32m    854\u001b[0m         \u001b[0;32mif\u001b[0m \u001b[0mioargs\u001b[0m\u001b[0;34m.\u001b[0m\u001b[0mencoding\u001b[0m \u001b[0;32mand\u001b[0m \u001b[0;34m\"b\"\u001b[0m \u001b[0;32mnot\u001b[0m \u001b[0;32min\u001b[0m \u001b[0mioargs\u001b[0m\u001b[0;34m.\u001b[0m\u001b[0mmode\u001b[0m\u001b[0;34m:\u001b[0m\u001b[0;34m\u001b[0m\u001b[0;34m\u001b[0m\u001b[0m\n\u001b[1;32m    855\u001b[0m             \u001b[0;31m# Encoding\u001b[0m\u001b[0;34m\u001b[0m\u001b[0;34m\u001b[0m\u001b[0m\n\u001b[0;32m--> 856\u001b[0;31m             handle = open(\n\u001b[0m\u001b[1;32m    857\u001b[0m                 \u001b[0mhandle\u001b[0m\u001b[0;34m,\u001b[0m\u001b[0;34m\u001b[0m\u001b[0;34m\u001b[0m\u001b[0m\n\u001b[1;32m    858\u001b[0m                 \u001b[0mioargs\u001b[0m\u001b[0;34m.\u001b[0m\u001b[0mmode\u001b[0m\u001b[0;34m,\u001b[0m\u001b[0;34m\u001b[0m\u001b[0;34m\u001b[0m\u001b[0m\n",
            "\u001b[0;31mFileNotFoundError\u001b[0m: [Errno 2] No such file or directory: 'sample_data.csv'"
          ]
        }
      ]
    },
    {
      "cell_type": "code",
      "source": [
        "# Prepare Data for PyTorch- convert everything into tensors.\n",
        "# Initialize the device variable\n",
        "DEVICE = set_device()\n",
        "\n",
        "# Convert the 2D points to a float32 tensor\n",
        "X = torch.tensor(X_orig, dtype=torch.float32)\n",
        "\n",
        "# Upload the tensor to the device\n",
        "X = X.to(DEVICE)\n",
        "\n",
        "print(f\"Size X:{X.shape}\")\n",
        "\n",
        "# Convert the labels to a long interger tensor\n",
        "y = torch.from_numpy(y_orig).type(torch.LongTensor)\n",
        "\n",
        "# Upload the tensor to the device\n",
        "y = y.to(DEVICE)\n",
        "\n",
        "print(f\"Size y:{y.shape}\")\n"
      ],
      "metadata": {
        "colab": {
          "base_uri": "https://localhost:8080/",
          "height": 240
        },
        "id": "fO6HxGv4vXZa",
        "outputId": "394f9ff2-f998-4860-c030-c14c47ace186"
      },
      "execution_count": null,
      "outputs": [
        {
          "output_type": "error",
          "ename": "NameError",
          "evalue": "ignored",
          "traceback": [
            "\u001b[0;31m---------------------------------------------------------------------------\u001b[0m",
            "\u001b[0;31mNameError\u001b[0m                                 Traceback (most recent call last)",
            "\u001b[0;32m<ipython-input-21-4f287f84c13a>\u001b[0m in \u001b[0;36m<cell line: 3>\u001b[0;34m()\u001b[0m\n\u001b[1;32m      1\u001b[0m \u001b[0;31m# Prepare Data for PyTorch- convert everything into tensors.\u001b[0m\u001b[0;34m\u001b[0m\u001b[0;34m\u001b[0m\u001b[0m\n\u001b[1;32m      2\u001b[0m \u001b[0;31m# Initialize the device variable\u001b[0m\u001b[0;34m\u001b[0m\u001b[0;34m\u001b[0m\u001b[0m\n\u001b[0;32m----> 3\u001b[0;31m \u001b[0mDEVICE\u001b[0m \u001b[0;34m=\u001b[0m \u001b[0mset_device\u001b[0m\u001b[0;34m(\u001b[0m\u001b[0;34m)\u001b[0m\u001b[0;34m\u001b[0m\u001b[0;34m\u001b[0m\u001b[0m\n\u001b[0m\u001b[1;32m      4\u001b[0m \u001b[0;34m\u001b[0m\u001b[0m\n\u001b[1;32m      5\u001b[0m \u001b[0;31m# Convert the 2D points to a float32 tensor\u001b[0m\u001b[0;34m\u001b[0m\u001b[0;34m\u001b[0m\u001b[0m\n",
            "\u001b[0;31mNameError\u001b[0m: name 'set_device' is not defined"
          ]
        }
      ]
    },
    {
      "cell_type": "code",
      "source": [
        "# Section 3.2: Create a Simple Neural Network\n",
        "# Inherit from nn.Module - the base class for neural network modules provided by Pytorch\n",
        "# PyTorch provides a base class for all neural network modules called nn.Module\n",
        "\n",
        "class NaiveNet(nn.Module):\n",
        "  \"\"\"\n",
        "  NaiveNet architecture\n",
        "  Structure is as follows:\n",
        "  Linear Layer (2, 16) -> ReLU activation -> Linear Layer (16, 2)\n",
        "  \"\"\"\n",
        "  # Define the structure of your network\n",
        "  def __init__(self):\n",
        "    \"\"\"\n",
        "    Defines the NaiveNet structure by initialising following attributes\n",
        "    nn.Linear (2, 16):  Transformation from the input to the hidden layer\n",
        "    nn.ReLU: Activation function (ReLU) is a non-linearity which is widely used because it reduces computation.\n",
        "             The function returns 0 if it receives any negative input, but for any positive value x, it returns that value back.\n",
        "    nn.Linear (16, 2): Transformation from the hidden to the output layer\n",
        "\n",
        "    Args:\n",
        "      None\n",
        "\n",
        "    Returns:\n",
        "      Nothing\n",
        "    \"\"\"\n",
        "    ## call superclass\n",
        "    super(NaiveNet, self).__init__()\n",
        "\n",
        "    # The network is defined as a sequence of operations\n",
        "    self.layers = nn.Sequential(\n",
        "        nn.Linear(2, 16),\n",
        "        nn.ReLU(),\n",
        "        nn.Linear(16, 2),\n",
        "    )\n",
        "\n",
        "  # Specify the computations performed on the data\n",
        "  def forward(self, x):\n",
        "    \"\"\"\n",
        "    Defines the forward pass through the above defined structure\n",
        "\n",
        "    Args:\n",
        "      x: torch.Tensor\n",
        "        Input tensor of size ([3])\n",
        "\n",
        "    Returns:\n",
        "      layers: nn.module\n",
        "        Initialised Layers in order to re-use the same layer for each forward pass of data you make.\n",
        "    \"\"\"\n",
        "    # Pass the data through the layers\n",
        "    return self.layers(x)\n",
        "\n",
        "  # Choose the most likely label predicted by the network\n",
        "  def predict(self, x):\n",
        "    \"\"\"\n",
        "    Performs the prediction task of the network\n",
        "\n",
        "    Args:\n",
        "      x: torch.Tensor\n",
        "        Input tensor of size ([3])\n",
        "\n",
        "    Returns:\n",
        "      Most likely class i.e., Label with the highest score\n",
        "    \"\"\"\n",
        "    # Pass the data through the networks\n",
        "    output = self.forward(x)\n",
        "\n",
        "    # Choose the label with the highest score\n",
        "    return torch.argmax(output, 1)\n",
        "\n",
        "  # Train the neural network (will be implemented later)\n",
        "  def train(self, X, y):\n",
        "    \"\"\"\n",
        "    Training the Neural Network\n",
        "\n",
        "    Args:\n",
        "      X: torch.Tensor\n",
        "        Input data\n",
        "      y: torch.Tensor\n",
        "        Class Labels/Targets\n",
        "\n",
        "    Returns:\n",
        "      Nothing\n",
        "    \"\"\"\n",
        "    pass"
      ],
      "metadata": {
        "id": "opd2AFRXOcbA"
      },
      "execution_count": null,
      "outputs": []
    },
    {
      "cell_type": "code",
      "source": [
        "# Check that your network works\n",
        "# Create an instance of your model and visualize it\n",
        "# Create new NaiveNet and transfer it to the device\n",
        "model = NaiveNet()\n",
        "#.to(DEVICE)\n",
        "\n",
        "# Print the structure of the network\n",
        "print(model)"
      ],
      "metadata": {
        "colab": {
          "base_uri": "https://localhost:8080/"
        },
        "id": "Xd-ltFl-8Ken",
        "outputId": "3d7f02ae-2390-4220-f9c2-cba9c715d0bf"
      },
      "execution_count": null,
      "outputs": [
        {
          "output_type": "stream",
          "name": "stdout",
          "text": [
            "NaiveNet(\n",
            "  (layers): Sequential(\n",
            "    (0): Linear(in_features=2, out_features=16, bias=True)\n",
            "    (1): ReLU()\n",
            "    (2): Linear(in_features=16, out_features=2, bias=True)\n",
            "  )\n",
            ")\n"
          ]
        }
      ]
    },
    {
      "cell_type": "code",
      "source": [
        "# Coding Exercise 3.2: Classify some samples\n",
        "## Get the samples\n",
        "X_samples = X[0:5]\n",
        "print(\"Sample input:\\n\", X_samples)\n",
        "\n",
        "## Do a forward pass of the network\n",
        "output = model.forward(X_samples)\n",
        "print(\"\\nNetwork output:\\n\", output)\n",
        "\n",
        "## Predict the label of each point\n",
        "y_predicted = model.predict(X_samples)\n",
        "print(\"\\nPredicted labels:\\n\", y_predicted)"
      ],
      "metadata": {
        "colab": {
          "base_uri": "https://localhost:8080/",
          "height": 240
        },
        "id": "8nxJ5bR48xV7",
        "outputId": "650d1197-93a8-44cc-95db-12cb29ea8126"
      },
      "execution_count": null,
      "outputs": [
        {
          "output_type": "error",
          "ename": "NameError",
          "evalue": "ignored",
          "traceback": [
            "\u001b[0;31m---------------------------------------------------------------------------\u001b[0m",
            "\u001b[0;31mNameError\u001b[0m                                 Traceback (most recent call last)",
            "\u001b[0;32m<ipython-input-6-d4bf4da6cf17>\u001b[0m in \u001b[0;36m<cell line: 3>\u001b[0;34m()\u001b[0m\n\u001b[1;32m      1\u001b[0m \u001b[0;31m# Coding Exercise 3.2: Classify some samples\u001b[0m\u001b[0;34m\u001b[0m\u001b[0;34m\u001b[0m\u001b[0m\n\u001b[1;32m      2\u001b[0m \u001b[0;31m## Get the samples\u001b[0m\u001b[0;34m\u001b[0m\u001b[0;34m\u001b[0m\u001b[0m\n\u001b[0;32m----> 3\u001b[0;31m \u001b[0mX_samples\u001b[0m \u001b[0;34m=\u001b[0m \u001b[0mX\u001b[0m\u001b[0;34m[\u001b[0m\u001b[0;36m0\u001b[0m\u001b[0;34m:\u001b[0m\u001b[0;36m5\u001b[0m\u001b[0;34m]\u001b[0m\u001b[0;34m\u001b[0m\u001b[0;34m\u001b[0m\u001b[0m\n\u001b[0m\u001b[1;32m      4\u001b[0m \u001b[0mprint\u001b[0m\u001b[0;34m(\u001b[0m\u001b[0;34m\"Sample input:\\n\"\u001b[0m\u001b[0;34m,\u001b[0m \u001b[0mX_samples\u001b[0m\u001b[0;34m)\u001b[0m\u001b[0;34m\u001b[0m\u001b[0;34m\u001b[0m\u001b[0m\n\u001b[1;32m      5\u001b[0m \u001b[0;34m\u001b[0m\u001b[0m\n",
            "\u001b[0;31mNameError\u001b[0m: name 'X' is not defined"
          ]
        }
      ]
    },
    {
      "cell_type": "code",
      "source": [
        "# Section 3.3: Train Your Neural Network\n",
        "# Implement the train function given a training dataset X and correcsponding labels y\n",
        "def train(model, X, y):\n",
        "  \"\"\"\n",
        "    Training the Neural Network\n",
        "\n",
        "    Args:\n",
        "      X: torch.Tensor\n",
        "        Input data\n",
        "      y: torch.Tensor\n",
        "        Class Labels/Targets\n",
        "\n",
        "    Returns:\n",
        "      losses: Float\n",
        "        Cross Entropy Loss; Cross-entropy builds upon the idea of entropy\n",
        "        from information theory and calculates the number of bits required\n",
        "        to represent or transmit an average event from one distribution\n",
        "        compared to another distribution.\n",
        "    \"\"\"\n",
        "  # The Cross Entropy Loss is suitable for classification problems\n",
        "  loss_function = nn.CrossEntropyLoss()\n",
        "\n",
        "  # Create an optimizer (Stochastic Gradient Descent) that will be used to train the network\n",
        "  learning_rate = 1e-2\n",
        "  optimizer = torch.optim.SGD(model.parameters(), lr=learning_rate)\n",
        "\n",
        "  # Number of epochs\n",
        "  epochs = 15000\n",
        "\n",
        "  # List of losses for visualization\n",
        "  losses = []\n",
        "\n",
        "  for i in range(epochs):\n",
        "    # Pass the data through the network and compute the loss\n",
        "    # We'll use the whole dataset during the training instead of using batches\n",
        "    # in to order to keep the code simple for now.\n",
        "    y_logits = model.forward(X)\n",
        "    loss = loss_function(y_logits, y)\n",
        "\n",
        "    # Clear the previous gradients and compute the new ones\n",
        "    optimizer.zero_grad()\n",
        "    loss.backward()\n",
        "\n",
        "    # Adapt the weights of the network\n",
        "    optimizer.step()\n",
        "\n",
        "    # Store the loss\n",
        "    losses.append(loss.item())\n",
        "\n",
        "    # Print the results at every 1000th epoch\n",
        "    if i % 1000 == 0:\n",
        "      print(f\"Epoch {i} loss is {loss.item()}\")\n",
        "\n",
        "      plot_decision_boundary(model, X, y, DEVICE)\n",
        "      plt.savefig('frames/{:05d}.png'.format(i))\n",
        "\n",
        "  return losses\n",
        "\n",
        "\n",
        "# Create a new network instance a train it\n",
        "model = NaiveNet().to(DEVICE)\n",
        "losses = train(model, X, y)"
      ],
      "metadata": {
        "id": "vbNcK_vLswiI"
      },
      "execution_count": null,
      "outputs": []
    },
    {
      "cell_type": "code",
      "source": [
        "#Plot the loss during the training to see how it reduces and converges\n",
        "plt.plot(np.linspace(1, len(losses), len(losses)), losses)\n",
        "plt.xlabel(\"Epoch\")\n",
        "plt.ylabel(\"Loss\")\n",
        "Text(0, 0.5, 'Loss')"
      ],
      "metadata": {
        "id": "2U62RhQOPcIV"
      },
      "execution_count": null,
      "outputs": []
    },
    {
      "cell_type": "code",
      "source": [
        "#Visualize the training process\n",
        "# @title Visualize the training process\n",
        "# @markdown Execute this cell!\n",
        "!pip install imageio --quiet\n",
        "!pip install pathlib --quiet\n",
        "\n",
        "import imageio.v2 as imageio\n",
        "from IPython.core.interactiveshell import InteractiveShell\n",
        "from IPython.display import Image, display\n",
        "from pathlib import Path\n",
        "\n",
        "InteractiveShell.ast_node_interactivity = \"all\"\n",
        "\n",
        "# Make a list with all images\n",
        "images = []\n",
        "for i in range(10):\n",
        "  filename = Path(\"frames/0\"+str(i)+\"000.png\")\n",
        "  images.append(imageio.imread(filename))\n",
        "# Save the gif\n",
        "imageio.mimsave('frames/movie.gif', images)\n",
        "gifPath = Path(\"frames/movie.gif\")\n",
        "with open(gifPath,'rb') as f:\n",
        "  display(Image(data=f.read(), format='png'))"
      ],
      "metadata": {
        "id": "vEmz5I4LPsJJ"
      },
      "execution_count": null,
      "outputs": []
    },
    {
      "cell_type": "code",
      "source": [
        "\"\"\"\n",
        "Typically:\n",
        "1. Training for longer number of epochs tends to increase performance (but early stopping also works in some cases).\n",
        "2. Increased size of hidden layers aka width increases capacity leading to double descent.\n",
        "3. Increasing number of hidden layers aka depth typically makes the network more expressive (but networks that're very deep overfit).\n",
        "\"\"\";"
      ],
      "metadata": {
        "id": "W-FQCGehStjj"
      },
      "execution_count": null,
      "outputs": []
    }
  ]
}